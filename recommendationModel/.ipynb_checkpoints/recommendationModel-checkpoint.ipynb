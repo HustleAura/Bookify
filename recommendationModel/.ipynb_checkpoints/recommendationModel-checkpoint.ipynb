{
 "cells": [
  {
   "cell_type": "markdown",
   "id": "7793887a",
   "metadata": {},
   "source": [
    "# Libraries and Utilities"
   ]
  },
  {
   "cell_type": "code",
   "execution_count": 2,
   "id": "a23c69f0",
   "metadata": {},
   "outputs": [],
   "source": [
    "import re\n",
    "import nltk\n",
    "import pickle\n",
    "import difflib\n",
    "import warnings\n",
    "import numpy as np\n",
    "import pandas as pd\n",
    "\n",
    "# to ignore all the warnings\n",
    "warnings.filterwarnings('ignore')\n",
    "\n",
    "from nltk.corpus import stopwords\n",
    "from sklearn.metrics.pairwise import cosine_similarity\n",
    "from sklearn.feature_extraction.text import TfidfVectorizer"
   ]
  },
  {
   "cell_type": "markdown",
   "id": "6f14ffc9",
   "metadata": {},
   "source": [
    "# Loading and Checking the data"
   ]
  },
  {
   "cell_type": "code",
   "execution_count": 3,
   "id": "657a81b2",
   "metadata": {},
   "outputs": [
    {
     "data": {
      "text/html": [
       "<div>\n",
       "<style scoped>\n",
       "    .dataframe tbody tr th:only-of-type {\n",
       "        vertical-align: middle;\n",
       "    }\n",
       "\n",
       "    .dataframe tbody tr th {\n",
       "        vertical-align: top;\n",
       "    }\n",
       "\n",
       "    .dataframe thead th {\n",
       "        text-align: right;\n",
       "    }\n",
       "</style>\n",
       "<table border=\"1\" class=\"dataframe\">\n",
       "  <thead>\n",
       "    <tr style=\"text-align: right;\">\n",
       "      <th></th>\n",
       "      <th>Unnamed: 0</th>\n",
       "      <th>user_id</th>\n",
       "      <th>location</th>\n",
       "      <th>age</th>\n",
       "      <th>isbn</th>\n",
       "      <th>rating</th>\n",
       "      <th>book_title</th>\n",
       "      <th>book_author</th>\n",
       "      <th>year_of_publication</th>\n",
       "      <th>publisher</th>\n",
       "      <th>img_s</th>\n",
       "      <th>img_m</th>\n",
       "      <th>img_l</th>\n",
       "      <th>Summary</th>\n",
       "      <th>Language</th>\n",
       "      <th>Category</th>\n",
       "      <th>city</th>\n",
       "      <th>state</th>\n",
       "      <th>country</th>\n",
       "    </tr>\n",
       "  </thead>\n",
       "  <tbody>\n",
       "    <tr>\n",
       "      <th>0</th>\n",
       "      <td>0</td>\n",
       "      <td>2</td>\n",
       "      <td>stockton, california, usa</td>\n",
       "      <td>18.0000</td>\n",
       "      <td>0195153448</td>\n",
       "      <td>0</td>\n",
       "      <td>Classical Mythology</td>\n",
       "      <td>Mark P. O. Morford</td>\n",
       "      <td>2002.0</td>\n",
       "      <td>Oxford University Press</td>\n",
       "      <td>http://images.amazon.com/images/P/0195153448.0...</td>\n",
       "      <td>http://images.amazon.com/images/P/0195153448.0...</td>\n",
       "      <td>http://images.amazon.com/images/P/0195153448.0...</td>\n",
       "      <td>Provides an introduction to classical myths pl...</td>\n",
       "      <td>en</td>\n",
       "      <td>['Social Science']</td>\n",
       "      <td>stockton</td>\n",
       "      <td>california</td>\n",
       "      <td>usa</td>\n",
       "    </tr>\n",
       "    <tr>\n",
       "      <th>1</th>\n",
       "      <td>1</td>\n",
       "      <td>8</td>\n",
       "      <td>timmins, ontario, canada</td>\n",
       "      <td>34.7439</td>\n",
       "      <td>0002005018</td>\n",
       "      <td>5</td>\n",
       "      <td>Clara Callan</td>\n",
       "      <td>Richard Bruce Wright</td>\n",
       "      <td>2001.0</td>\n",
       "      <td>HarperFlamingo Canada</td>\n",
       "      <td>http://images.amazon.com/images/P/0002005018.0...</td>\n",
       "      <td>http://images.amazon.com/images/P/0002005018.0...</td>\n",
       "      <td>http://images.amazon.com/images/P/0002005018.0...</td>\n",
       "      <td>In a small town in Canada, Clara Callan reluct...</td>\n",
       "      <td>en</td>\n",
       "      <td>['Actresses']</td>\n",
       "      <td>timmins</td>\n",
       "      <td>ontario</td>\n",
       "      <td>canada</td>\n",
       "    </tr>\n",
       "    <tr>\n",
       "      <th>2</th>\n",
       "      <td>2</td>\n",
       "      <td>11400</td>\n",
       "      <td>ottawa, ontario, canada</td>\n",
       "      <td>49.0000</td>\n",
       "      <td>0002005018</td>\n",
       "      <td>0</td>\n",
       "      <td>Clara Callan</td>\n",
       "      <td>Richard Bruce Wright</td>\n",
       "      <td>2001.0</td>\n",
       "      <td>HarperFlamingo Canada</td>\n",
       "      <td>http://images.amazon.com/images/P/0002005018.0...</td>\n",
       "      <td>http://images.amazon.com/images/P/0002005018.0...</td>\n",
       "      <td>http://images.amazon.com/images/P/0002005018.0...</td>\n",
       "      <td>In a small town in Canada, Clara Callan reluct...</td>\n",
       "      <td>en</td>\n",
       "      <td>['Actresses']</td>\n",
       "      <td>ottawa</td>\n",
       "      <td>ontario</td>\n",
       "      <td>canada</td>\n",
       "    </tr>\n",
       "  </tbody>\n",
       "</table>\n",
       "</div>"
      ],
      "text/plain": [
       "   Unnamed: 0  user_id                   location      age        isbn  \\\n",
       "0           0        2  stockton, california, usa  18.0000  0195153448   \n",
       "1           1        8   timmins, ontario, canada  34.7439  0002005018   \n",
       "2           2    11400    ottawa, ontario, canada  49.0000  0002005018   \n",
       "\n",
       "   rating           book_title           book_author  year_of_publication  \\\n",
       "0       0  Classical Mythology    Mark P. O. Morford               2002.0   \n",
       "1       5         Clara Callan  Richard Bruce Wright               2001.0   \n",
       "2       0         Clara Callan  Richard Bruce Wright               2001.0   \n",
       "\n",
       "                 publisher                                              img_s  \\\n",
       "0  Oxford University Press  http://images.amazon.com/images/P/0195153448.0...   \n",
       "1    HarperFlamingo Canada  http://images.amazon.com/images/P/0002005018.0...   \n",
       "2    HarperFlamingo Canada  http://images.amazon.com/images/P/0002005018.0...   \n",
       "\n",
       "                                               img_m  \\\n",
       "0  http://images.amazon.com/images/P/0195153448.0...   \n",
       "1  http://images.amazon.com/images/P/0002005018.0...   \n",
       "2  http://images.amazon.com/images/P/0002005018.0...   \n",
       "\n",
       "                                               img_l  \\\n",
       "0  http://images.amazon.com/images/P/0195153448.0...   \n",
       "1  http://images.amazon.com/images/P/0002005018.0...   \n",
       "2  http://images.amazon.com/images/P/0002005018.0...   \n",
       "\n",
       "                                             Summary Language  \\\n",
       "0  Provides an introduction to classical myths pl...       en   \n",
       "1  In a small town in Canada, Clara Callan reluct...       en   \n",
       "2  In a small town in Canada, Clara Callan reluct...       en   \n",
       "\n",
       "             Category      city       state country  \n",
       "0  ['Social Science']  stockton  california     usa  \n",
       "1       ['Actresses']   timmins     ontario  canada  \n",
       "2       ['Actresses']    ottawa     ontario  canada  "
      ]
     },
     "execution_count": 3,
     "metadata": {},
     "output_type": "execute_result"
    }
   ],
   "source": [
    "books = pd.read_csv('dataset/Preprocessed_data.csv')\n",
    "books.head(3)"
   ]
  },
  {
   "cell_type": "markdown",
   "id": "4487f394",
   "metadata": {},
   "source": [
    "# Data Preprocessing"
   ]
  },
  {
   "cell_type": "code",
   "execution_count": 4,
   "id": "6c9bd033",
   "metadata": {},
   "outputs": [
    {
     "data": {
      "text/html": [
       "<div>\n",
       "<style scoped>\n",
       "    .dataframe tbody tr th:only-of-type {\n",
       "        vertical-align: middle;\n",
       "    }\n",
       "\n",
       "    .dataframe tbody tr th {\n",
       "        vertical-align: top;\n",
       "    }\n",
       "\n",
       "    .dataframe thead th {\n",
       "        text-align: right;\n",
       "    }\n",
       "</style>\n",
       "<table border=\"1\" class=\"dataframe\">\n",
       "  <thead>\n",
       "    <tr style=\"text-align: right;\">\n",
       "      <th></th>\n",
       "      <th>index</th>\n",
       "      <th>book_title</th>\n",
       "      <th>book_author</th>\n",
       "      <th>publisher</th>\n",
       "      <th>Summary</th>\n",
       "      <th>Category</th>\n",
       "    </tr>\n",
       "  </thead>\n",
       "  <tbody>\n",
       "    <tr>\n",
       "      <th>0</th>\n",
       "      <td>15</td>\n",
       "      <td>The Kitchen God's Wife</td>\n",
       "      <td>Amy Tan</td>\n",
       "      <td>Putnam Pub Group</td>\n",
       "      <td>A Chinese immigrant who is convinced she is dy...</td>\n",
       "      <td>Fiction</td>\n",
       "    </tr>\n",
       "    <tr>\n",
       "      <th>1</th>\n",
       "      <td>34</td>\n",
       "      <td>The Testament</td>\n",
       "      <td>John Grisham</td>\n",
       "      <td>Dell</td>\n",
       "      <td>A suicidal billionaire, a burnt-out Washington...</td>\n",
       "      <td>Fiction</td>\n",
       "    </tr>\n",
       "    <tr>\n",
       "      <th>2</th>\n",
       "      <td>197</td>\n",
       "      <td>Beloved (Plume Contemporary Fiction)</td>\n",
       "      <td>Toni Morrison</td>\n",
       "      <td>Plume</td>\n",
       "      <td>Staring unflinchingly into the abyss of slaver...</td>\n",
       "      <td>Fiction</td>\n",
       "    </tr>\n",
       "    <tr>\n",
       "      <th>3</th>\n",
       "      <td>274</td>\n",
       "      <td>Our Dumb Century: The Onion Presents 100 Years...</td>\n",
       "      <td>The Onion</td>\n",
       "      <td>Three Rivers Press</td>\n",
       "      <td>The staff of The Onion presents a satirical co...</td>\n",
       "      <td>Humor</td>\n",
       "    </tr>\n",
       "    <tr>\n",
       "      <th>4</th>\n",
       "      <td>296</td>\n",
       "      <td>Wild Animus</td>\n",
       "      <td>Rich Shapero</td>\n",
       "      <td>Too Far</td>\n",
       "      <td>Wild animus is a search for the primordial, a ...</td>\n",
       "      <td>Fiction</td>\n",
       "    </tr>\n",
       "  </tbody>\n",
       "</table>\n",
       "</div>"
      ],
      "text/plain": [
       "   index                                         book_title    book_author  \\\n",
       "0     15                             The Kitchen God's Wife        Amy Tan   \n",
       "1     34                                      The Testament   John Grisham   \n",
       "2    197               Beloved (Plume Contemporary Fiction)  Toni Morrison   \n",
       "3    274  Our Dumb Century: The Onion Presents 100 Years...      The Onion   \n",
       "4    296                                        Wild Animus   Rich Shapero   \n",
       "\n",
       "            publisher                                            Summary  \\\n",
       "0    Putnam Pub Group  A Chinese immigrant who is convinced she is dy...   \n",
       "1                Dell  A suicidal billionaire, a burnt-out Washington...   \n",
       "2               Plume  Staring unflinchingly into the abyss of slaver...   \n",
       "3  Three Rivers Press  The staff of The Onion presents a satirical co...   \n",
       "4             Too Far  Wild animus is a search for the primordial, a ...   \n",
       "\n",
       "  Category  \n",
       "0  Fiction  \n",
       "1  Fiction  \n",
       "2  Fiction  \n",
       "3    Humor  \n",
       "4  Fiction  "
      ]
     },
     "execution_count": 4,
     "metadata": {},
     "output_type": "execute_result"
    }
   ],
   "source": [
    "df = books.copy()\n",
    "\n",
    "# dropping null values and useless columns\n",
    "df.dropna(inplace = True)\n",
    "df.drop(columns = ['Unnamed: 0', 'user_id', 'location', 'age', 'isbn', 'year_of_publication', 'img_s', 'img_m',\n",
    "                  'img_l', 'Language', 'city', 'state', 'country'], inplace = True)\n",
    "\n",
    "# dropping rows with rating 0 and category 9\n",
    "df.drop(index=df[df['rating'] == 0].index, inplace=True)\n",
    "df.drop(index=df[df['Category'] == '9'].index, inplace=True)\n",
    "\n",
    "# formatting the category column to keep only strings\n",
    "df['Category'] = df['Category'].apply(lambda x: re.sub('[\\W_]+',' ',x).strip())\n",
    "df.reset_index(drop = True, inplace = True)\n",
    "\n",
    "# cutting the dataset small by removing books having less than 10 reviews\n",
    "rating_counts = pd.DataFrame(df['book_title'].value_counts())\n",
    "rare_books = rating_counts[rating_counts['book_title'] <= 10].index\n",
    "common_books = df[~df['book_title'].isin(rare_books)]\n",
    "\n",
    "# droping duplicates so that one book is in one row\n",
    "book_list = common_books.drop_duplicates(subset = ['book_title'])\n",
    "\n",
    "#since now we do not need ratings we can remove rating column as well\n",
    "book_list.drop(columns = ['rating'], inplace = True)\n",
    "book_list.reset_index(inplace = True)\n",
    "book_list.head()"
   ]
  },
  {
   "cell_type": "markdown",
   "id": "fc4f9814",
   "metadata": {},
   "source": [
    "# Finding similarity of the books with each other"
   ]
  },
  {
   "cell_type": "code",
   "execution_count": 5,
   "id": "467198a5",
   "metadata": {},
   "outputs": [],
   "source": [
    "# filtering the summary for common english words and removing them\n",
    "filtered_summary = []\n",
    "for i in book_list['Summary']:\n",
    "               \n",
    "    i = re.sub(\"[^a-zA-Z]\",\" \",i).lower()\n",
    "    i = nltk.word_tokenize(i)\n",
    "    i = [word for word in i if not word.lower() in set(stopwords.words(\"english\"))]\n",
    "    i = \" \".join(i)\n",
    "    filtered_summary.append(i)\n",
    "        \n",
    "book_list['Summary'] = filtered_summary\n",
    "\n",
    "# combining all the features to use it as a single feature\n",
    "book_list['combined_features'] = ''\n",
    "combined_features = ['book_title', 'book_author', 'publisher', 'Category', 'Summary']\n",
    " \n",
    "for feature in combined_features : \n",
    "    book_list['combined_features'] += (book_list[feature] + ' ')\n",
    "         \n",
    "book_list.drop(columns = ['index'], inplace = True)\n",
    "book_list.reset_index(inplace = True)\n",
    "  \n",
    "# finding feature vectors using vectorizer\n",
    "book_list['feature_vectors'] = ''\n",
    "tf_vectorizer = TfidfVectorizer()\n",
    "book_feature_vectors = tf_vectorizer.fit_transform(book_list['combined_features'])\n",
    "   \n",
    "# finding the cosine similarity for each book with every other book.\n",
    "# similarity_matrix is a square matrix with shape [(book_list.length() x book_list.length())]\n",
    "cosine_similarity_matrix = cosine_similarity(book_feature_vectors)"
   ]
  },
  {
   "cell_type": "markdown",
   "id": "2a25c710",
   "metadata": {},
   "source": [
    "# Recommender Class"
   ]
  },
  {
   "cell_type": "code",
   "execution_count": 52,
   "id": "fe7ee7b3",
   "metadata": {},
   "outputs": [],
   "source": [
    "class RecommenderClass :\n",
    "    \n",
    "    def __init__(self, cosine_similarity_matrix):\n",
    "        self.cosine_similarity_matrix = cosine_similarity_matrix\n",
    "    \n",
    "    def recommender(self, book_title):\n",
    "\n",
    "        # getting the closest matching book title with the given input. Helps incase there is any mistake in spelling\n",
    "        book_title = difflib.get_close_matches(book_title, book_list['book_title'], 1)[0]\n",
    "\n",
    "        # finding the index of the book from the bookList and taking out its similarity with other books from similarity matrix\n",
    "        index = book_list[book_list['book_title'] == book_title]['index'].values[0]\n",
    "        similar_books = list(enumerate(self.cosine_similarity_matrix[index]))\n",
    "\n",
    "        # sorting the books in descending order. The most similar book is recommended first\n",
    "        sorted_similar_books = sorted(similar_books, key = lambda x : x[1], reverse = True)\n",
    "\n",
    "        # taking index from sorted list and adding respective book title in the same order to return list of recommended books\n",
    "        recommended_books = []\n",
    "        for book in sorted_similar_books:\n",
    "            recommended_books.append(book_list['book_title'][book[0]])\n",
    "\n",
    "        return recommended_books\n",
    "    \n",
    "    # utility functions for using the recommendation algorithm in various ways\n",
    "    def user_recommendation(self, book_title) :\n",
    "        return self.recommender(book_title)[1:10]\n",
    "\n",
    "    def search_recommendation(self, book_title) :\n",
    "        return self.recommender(book_title)"
   ]
  },
  {
   "cell_type": "markdown",
   "id": "30fd939b",
   "metadata": {},
   "source": [
    "# Testing the model"
   ]
  },
  {
   "cell_type": "code",
   "execution_count": 53,
   "id": "a76e9525",
   "metadata": {},
   "outputs": [
    {
     "data": {
      "text/plain": [
       "['Harry Potter and the Order of the Phoenix (Book 5)',\n",
       " 'Harry Potter and the Goblet of Fire (Book 4)',\n",
       " \"Harry Potter and the Sorcerer's Stone (Harry Potter (Paperback))\",\n",
       " 'Harry Potter and the Chamber of Secrets (Book 2)',\n",
       " \"Harry Potter and the Sorcerer's Stone (Book 1)\",\n",
       " 'Harry Potter and the Chamber of Secrets Postcard Book',\n",
       " 'Harry Potter und der Stein der Weisen',\n",
       " 'Harry Potter und die Kammer des Schreckens',\n",
       " 'The Concrete Blonde (A Harry Bosch Novel)']"
      ]
     },
     "execution_count": 53,
     "metadata": {},
     "output_type": "execute_result"
    }
   ],
   "source": [
    "recommenderObject = RecommenderClass(similarity_matrix)\n",
    "recommenderObject.user_recommendation('harry potter and the prizoner of azkaban')"
   ]
  },
  {
   "cell_type": "markdown",
   "id": "e0c683d9",
   "metadata": {},
   "source": [
    "# Pickle and exporting the model"
   ]
  },
  {
   "cell_type": "code",
   "execution_count": 61,
   "id": "db34d602",
   "metadata": {},
   "outputs": [],
   "source": [
    "# the model is stored in a file named recommendation_model.pkl\n",
    "pickle_file = open('recommender_class.py', 'wb')\n",
    "pickle.dump(RecommenderClass, pickle_file)\n",
    "pickle_file.close()"
   ]
  },
  {
   "cell_type": "code",
   "execution_count": 62,
   "id": "70ec16fa",
   "metadata": {},
   "outputs": [],
   "source": [
    "pickle_file = open('similarity_matrix.py', 'wb')\n",
    "pickle.dump(similarity_matrix, pickle_file)\n",
    "pickle_file.close()"
   ]
  },
  {
   "cell_type": "code",
   "execution_count": 63,
   "id": "bf3b3b80",
   "metadata": {},
   "outputs": [
    {
     "data": {
      "text/plain": [
       "'Harry Potter and the Prisoner of Azkaban (Book 3)'"
      ]
     },
     "execution_count": 63,
     "metadata": {},
     "output_type": "execute_result"
    }
   ],
   "source": [
    "a = pickle.load(open('similarity_matrix.py', 'rb'))\n",
    "b = pickle.load(open('recommender_class.py', 'rb'))\n",
    "temp = b(a)\n",
    "temp.user_recommendation('harry potter and the order of pheonix')[0]"
   ]
  },
  {
   "cell_type": "code",
   "execution_count": null,
   "id": "69039d45",
   "metadata": {},
   "outputs": [],
   "source": []
  }
 ],
 "metadata": {
  "kernelspec": {
   "display_name": "Python 3 (ipykernel)",
   "language": "python",
   "name": "python3"
  },
  "language_info": {
   "codemirror_mode": {
    "name": "ipython",
    "version": 3
   },
   "file_extension": ".py",
   "mimetype": "text/x-python",
   "name": "python",
   "nbconvert_exporter": "python",
   "pygments_lexer": "ipython3",
   "version": "3.9.7"
  }
 },
 "nbformat": 4,
 "nbformat_minor": 5
}
